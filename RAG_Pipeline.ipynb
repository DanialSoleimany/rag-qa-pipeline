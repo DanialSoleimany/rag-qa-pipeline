{
  "nbformat": 4,
  "nbformat_minor": 0,
  "metadata": {
    "colab": {
      "provenance": [],
      "gpuType": "T4"
    },
    "kernelspec": {
      "name": "python3",
      "display_name": "Python 3"
    },
    "language_info": {
      "name": "python"
    },
    "accelerator": "GPU",
    "widgets": {
      "application/vnd.jupyter.widget-state+json": {
        "df73642cd08744608c13d6428ea7ef47": {
          "model_module": "@jupyter-widgets/controls",
          "model_name": "HBoxModel",
          "model_module_version": "1.5.0",
          "state": {
            "_dom_classes": [],
            "_model_module": "@jupyter-widgets/controls",
            "_model_module_version": "1.5.0",
            "_model_name": "HBoxModel",
            "_view_count": null,
            "_view_module": "@jupyter-widgets/controls",
            "_view_module_version": "1.5.0",
            "_view_name": "HBoxView",
            "box_style": "",
            "children": [
              "IPY_MODEL_9a458789643b4119b97600b11a734d05",
              "IPY_MODEL_5affc2fb049446e1be40769bafe1edf8",
              "IPY_MODEL_d44c678b79ec4405b69ce3847884fcc7"
            ],
            "layout": "IPY_MODEL_1376d7ee0b0a4dd3b7750d57a403556f"
          }
        },
        "9a458789643b4119b97600b11a734d05": {
          "model_module": "@jupyter-widgets/controls",
          "model_name": "HTMLModel",
          "model_module_version": "1.5.0",
          "state": {
            "_dom_classes": [],
            "_model_module": "@jupyter-widgets/controls",
            "_model_module_version": "1.5.0",
            "_model_name": "HTMLModel",
            "_view_count": null,
            "_view_module": "@jupyter-widgets/controls",
            "_view_module_version": "1.5.0",
            "_view_name": "HTMLView",
            "description": "",
            "description_tooltip": null,
            "layout": "IPY_MODEL_82381380d79445e9b2a455cd3185fb1a",
            "placeholder": "​",
            "style": "IPY_MODEL_45482cc4cad546a89079a07ffc045811",
            "value": "Batches: 100%"
          }
        },
        "5affc2fb049446e1be40769bafe1edf8": {
          "model_module": "@jupyter-widgets/controls",
          "model_name": "FloatProgressModel",
          "model_module_version": "1.5.0",
          "state": {
            "_dom_classes": [],
            "_model_module": "@jupyter-widgets/controls",
            "_model_module_version": "1.5.0",
            "_model_name": "FloatProgressModel",
            "_view_count": null,
            "_view_module": "@jupyter-widgets/controls",
            "_view_module_version": "1.5.0",
            "_view_name": "ProgressView",
            "bar_style": "success",
            "description": "",
            "description_tooltip": null,
            "layout": "IPY_MODEL_e48f2e2d6aa34408a5a5bb677851126a",
            "max": 5,
            "min": 0,
            "orientation": "horizontal",
            "style": "IPY_MODEL_0970d025f80a418b941e1d0d6d354aed",
            "value": 5
          }
        },
        "d44c678b79ec4405b69ce3847884fcc7": {
          "model_module": "@jupyter-widgets/controls",
          "model_name": "HTMLModel",
          "model_module_version": "1.5.0",
          "state": {
            "_dom_classes": [],
            "_model_module": "@jupyter-widgets/controls",
            "_model_module_version": "1.5.0",
            "_model_name": "HTMLModel",
            "_view_count": null,
            "_view_module": "@jupyter-widgets/controls",
            "_view_module_version": "1.5.0",
            "_view_name": "HTMLView",
            "description": "",
            "description_tooltip": null,
            "layout": "IPY_MODEL_95e065129ffe4dc8b2bc3704a612d2e6",
            "placeholder": "​",
            "style": "IPY_MODEL_6518d7231c4b4925936b034828edc3d4",
            "value": " 5/5 [00:00&lt;00:00,  8.47it/s]"
          }
        },
        "1376d7ee0b0a4dd3b7750d57a403556f": {
          "model_module": "@jupyter-widgets/base",
          "model_name": "LayoutModel",
          "model_module_version": "1.2.0",
          "state": {
            "_model_module": "@jupyter-widgets/base",
            "_model_module_version": "1.2.0",
            "_model_name": "LayoutModel",
            "_view_count": null,
            "_view_module": "@jupyter-widgets/base",
            "_view_module_version": "1.2.0",
            "_view_name": "LayoutView",
            "align_content": null,
            "align_items": null,
            "align_self": null,
            "border": null,
            "bottom": null,
            "display": null,
            "flex": null,
            "flex_flow": null,
            "grid_area": null,
            "grid_auto_columns": null,
            "grid_auto_flow": null,
            "grid_auto_rows": null,
            "grid_column": null,
            "grid_gap": null,
            "grid_row": null,
            "grid_template_areas": null,
            "grid_template_columns": null,
            "grid_template_rows": null,
            "height": null,
            "justify_content": null,
            "justify_items": null,
            "left": null,
            "margin": null,
            "max_height": null,
            "max_width": null,
            "min_height": null,
            "min_width": null,
            "object_fit": null,
            "object_position": null,
            "order": null,
            "overflow": null,
            "overflow_x": null,
            "overflow_y": null,
            "padding": null,
            "right": null,
            "top": null,
            "visibility": null,
            "width": null
          }
        },
        "82381380d79445e9b2a455cd3185fb1a": {
          "model_module": "@jupyter-widgets/base",
          "model_name": "LayoutModel",
          "model_module_version": "1.2.0",
          "state": {
            "_model_module": "@jupyter-widgets/base",
            "_model_module_version": "1.2.0",
            "_model_name": "LayoutModel",
            "_view_count": null,
            "_view_module": "@jupyter-widgets/base",
            "_view_module_version": "1.2.0",
            "_view_name": "LayoutView",
            "align_content": null,
            "align_items": null,
            "align_self": null,
            "border": null,
            "bottom": null,
            "display": null,
            "flex": null,
            "flex_flow": null,
            "grid_area": null,
            "grid_auto_columns": null,
            "grid_auto_flow": null,
            "grid_auto_rows": null,
            "grid_column": null,
            "grid_gap": null,
            "grid_row": null,
            "grid_template_areas": null,
            "grid_template_columns": null,
            "grid_template_rows": null,
            "height": null,
            "justify_content": null,
            "justify_items": null,
            "left": null,
            "margin": null,
            "max_height": null,
            "max_width": null,
            "min_height": null,
            "min_width": null,
            "object_fit": null,
            "object_position": null,
            "order": null,
            "overflow": null,
            "overflow_x": null,
            "overflow_y": null,
            "padding": null,
            "right": null,
            "top": null,
            "visibility": null,
            "width": null
          }
        },
        "45482cc4cad546a89079a07ffc045811": {
          "model_module": "@jupyter-widgets/controls",
          "model_name": "DescriptionStyleModel",
          "model_module_version": "1.5.0",
          "state": {
            "_model_module": "@jupyter-widgets/controls",
            "_model_module_version": "1.5.0",
            "_model_name": "DescriptionStyleModel",
            "_view_count": null,
            "_view_module": "@jupyter-widgets/base",
            "_view_module_version": "1.2.0",
            "_view_name": "StyleView",
            "description_width": ""
          }
        },
        "e48f2e2d6aa34408a5a5bb677851126a": {
          "model_module": "@jupyter-widgets/base",
          "model_name": "LayoutModel",
          "model_module_version": "1.2.0",
          "state": {
            "_model_module": "@jupyter-widgets/base",
            "_model_module_version": "1.2.0",
            "_model_name": "LayoutModel",
            "_view_count": null,
            "_view_module": "@jupyter-widgets/base",
            "_view_module_version": "1.2.0",
            "_view_name": "LayoutView",
            "align_content": null,
            "align_items": null,
            "align_self": null,
            "border": null,
            "bottom": null,
            "display": null,
            "flex": null,
            "flex_flow": null,
            "grid_area": null,
            "grid_auto_columns": null,
            "grid_auto_flow": null,
            "grid_auto_rows": null,
            "grid_column": null,
            "grid_gap": null,
            "grid_row": null,
            "grid_template_areas": null,
            "grid_template_columns": null,
            "grid_template_rows": null,
            "height": null,
            "justify_content": null,
            "justify_items": null,
            "left": null,
            "margin": null,
            "max_height": null,
            "max_width": null,
            "min_height": null,
            "min_width": null,
            "object_fit": null,
            "object_position": null,
            "order": null,
            "overflow": null,
            "overflow_x": null,
            "overflow_y": null,
            "padding": null,
            "right": null,
            "top": null,
            "visibility": null,
            "width": null
          }
        },
        "0970d025f80a418b941e1d0d6d354aed": {
          "model_module": "@jupyter-widgets/controls",
          "model_name": "ProgressStyleModel",
          "model_module_version": "1.5.0",
          "state": {
            "_model_module": "@jupyter-widgets/controls",
            "_model_module_version": "1.5.0",
            "_model_name": "ProgressStyleModel",
            "_view_count": null,
            "_view_module": "@jupyter-widgets/base",
            "_view_module_version": "1.2.0",
            "_view_name": "StyleView",
            "bar_color": null,
            "description_width": ""
          }
        },
        "95e065129ffe4dc8b2bc3704a612d2e6": {
          "model_module": "@jupyter-widgets/base",
          "model_name": "LayoutModel",
          "model_module_version": "1.2.0",
          "state": {
            "_model_module": "@jupyter-widgets/base",
            "_model_module_version": "1.2.0",
            "_model_name": "LayoutModel",
            "_view_count": null,
            "_view_module": "@jupyter-widgets/base",
            "_view_module_version": "1.2.0",
            "_view_name": "LayoutView",
            "align_content": null,
            "align_items": null,
            "align_self": null,
            "border": null,
            "bottom": null,
            "display": null,
            "flex": null,
            "flex_flow": null,
            "grid_area": null,
            "grid_auto_columns": null,
            "grid_auto_flow": null,
            "grid_auto_rows": null,
            "grid_column": null,
            "grid_gap": null,
            "grid_row": null,
            "grid_template_areas": null,
            "grid_template_columns": null,
            "grid_template_rows": null,
            "height": null,
            "justify_content": null,
            "justify_items": null,
            "left": null,
            "margin": null,
            "max_height": null,
            "max_width": null,
            "min_height": null,
            "min_width": null,
            "object_fit": null,
            "object_position": null,
            "order": null,
            "overflow": null,
            "overflow_x": null,
            "overflow_y": null,
            "padding": null,
            "right": null,
            "top": null,
            "visibility": null,
            "width": null
          }
        },
        "6518d7231c4b4925936b034828edc3d4": {
          "model_module": "@jupyter-widgets/controls",
          "model_name": "DescriptionStyleModel",
          "model_module_version": "1.5.0",
          "state": {
            "_model_module": "@jupyter-widgets/controls",
            "_model_module_version": "1.5.0",
            "_model_name": "DescriptionStyleModel",
            "_view_count": null,
            "_view_module": "@jupyter-widgets/base",
            "_view_module_version": "1.2.0",
            "_view_name": "StyleView",
            "description_width": ""
          }
        },
        "de326d3e17fa42b2999b2a9744e15f24": {
          "model_module": "@jupyter-widgets/controls",
          "model_name": "HBoxModel",
          "model_module_version": "1.5.0",
          "state": {
            "_dom_classes": [],
            "_model_module": "@jupyter-widgets/controls",
            "_model_module_version": "1.5.0",
            "_model_name": "HBoxModel",
            "_view_count": null,
            "_view_module": "@jupyter-widgets/controls",
            "_view_module_version": "1.5.0",
            "_view_name": "HBoxView",
            "box_style": "",
            "children": [
              "IPY_MODEL_e9650c56176340d8aa7bb76592b20d71",
              "IPY_MODEL_340df79c523a4a2b88b938f049a852c4",
              "IPY_MODEL_023286efc2034ae09ea69d7ace25a37d"
            ],
            "layout": "IPY_MODEL_dbc657f02d2c44538a833086b8d0ac35"
          }
        },
        "e9650c56176340d8aa7bb76592b20d71": {
          "model_module": "@jupyter-widgets/controls",
          "model_name": "HTMLModel",
          "model_module_version": "1.5.0",
          "state": {
            "_dom_classes": [],
            "_model_module": "@jupyter-widgets/controls",
            "_model_module_version": "1.5.0",
            "_model_name": "HTMLModel",
            "_view_count": null,
            "_view_module": "@jupyter-widgets/controls",
            "_view_module_version": "1.5.0",
            "_view_name": "HTMLView",
            "description": "",
            "description_tooltip": null,
            "layout": "IPY_MODEL_d31292d667e044ee8668af634e851adf",
            "placeholder": "​",
            "style": "IPY_MODEL_d62a3322f0d14df79b5da98e289261f2",
            "value": "Batches: 100%"
          }
        },
        "340df79c523a4a2b88b938f049a852c4": {
          "model_module": "@jupyter-widgets/controls",
          "model_name": "FloatProgressModel",
          "model_module_version": "1.5.0",
          "state": {
            "_dom_classes": [],
            "_model_module": "@jupyter-widgets/controls",
            "_model_module_version": "1.5.0",
            "_model_name": "FloatProgressModel",
            "_view_count": null,
            "_view_module": "@jupyter-widgets/controls",
            "_view_module_version": "1.5.0",
            "_view_name": "ProgressView",
            "bar_style": "success",
            "description": "",
            "description_tooltip": null,
            "layout": "IPY_MODEL_3f85309d509a4dd89752e37980a60f25",
            "max": 1,
            "min": 0,
            "orientation": "horizontal",
            "style": "IPY_MODEL_8e17e58489b540558918c17cef9d69c7",
            "value": 1
          }
        },
        "023286efc2034ae09ea69d7ace25a37d": {
          "model_module": "@jupyter-widgets/controls",
          "model_name": "HTMLModel",
          "model_module_version": "1.5.0",
          "state": {
            "_dom_classes": [],
            "_model_module": "@jupyter-widgets/controls",
            "_model_module_version": "1.5.0",
            "_model_name": "HTMLModel",
            "_view_count": null,
            "_view_module": "@jupyter-widgets/controls",
            "_view_module_version": "1.5.0",
            "_view_name": "HTMLView",
            "description": "",
            "description_tooltip": null,
            "layout": "IPY_MODEL_040624b130644883a806066573e0d2d7",
            "placeholder": "​",
            "style": "IPY_MODEL_f25033c26752442f983027d91f4bd494",
            "value": " 1/1 [00:00&lt;00:00, 46.24it/s]"
          }
        },
        "dbc657f02d2c44538a833086b8d0ac35": {
          "model_module": "@jupyter-widgets/base",
          "model_name": "LayoutModel",
          "model_module_version": "1.2.0",
          "state": {
            "_model_module": "@jupyter-widgets/base",
            "_model_module_version": "1.2.0",
            "_model_name": "LayoutModel",
            "_view_count": null,
            "_view_module": "@jupyter-widgets/base",
            "_view_module_version": "1.2.0",
            "_view_name": "LayoutView",
            "align_content": null,
            "align_items": null,
            "align_self": null,
            "border": null,
            "bottom": null,
            "display": null,
            "flex": null,
            "flex_flow": null,
            "grid_area": null,
            "grid_auto_columns": null,
            "grid_auto_flow": null,
            "grid_auto_rows": null,
            "grid_column": null,
            "grid_gap": null,
            "grid_row": null,
            "grid_template_areas": null,
            "grid_template_columns": null,
            "grid_template_rows": null,
            "height": null,
            "justify_content": null,
            "justify_items": null,
            "left": null,
            "margin": null,
            "max_height": null,
            "max_width": null,
            "min_height": null,
            "min_width": null,
            "object_fit": null,
            "object_position": null,
            "order": null,
            "overflow": null,
            "overflow_x": null,
            "overflow_y": null,
            "padding": null,
            "right": null,
            "top": null,
            "visibility": null,
            "width": null
          }
        },
        "d31292d667e044ee8668af634e851adf": {
          "model_module": "@jupyter-widgets/base",
          "model_name": "LayoutModel",
          "model_module_version": "1.2.0",
          "state": {
            "_model_module": "@jupyter-widgets/base",
            "_model_module_version": "1.2.0",
            "_model_name": "LayoutModel",
            "_view_count": null,
            "_view_module": "@jupyter-widgets/base",
            "_view_module_version": "1.2.0",
            "_view_name": "LayoutView",
            "align_content": null,
            "align_items": null,
            "align_self": null,
            "border": null,
            "bottom": null,
            "display": null,
            "flex": null,
            "flex_flow": null,
            "grid_area": null,
            "grid_auto_columns": null,
            "grid_auto_flow": null,
            "grid_auto_rows": null,
            "grid_column": null,
            "grid_gap": null,
            "grid_row": null,
            "grid_template_areas": null,
            "grid_template_columns": null,
            "grid_template_rows": null,
            "height": null,
            "justify_content": null,
            "justify_items": null,
            "left": null,
            "margin": null,
            "max_height": null,
            "max_width": null,
            "min_height": null,
            "min_width": null,
            "object_fit": null,
            "object_position": null,
            "order": null,
            "overflow": null,
            "overflow_x": null,
            "overflow_y": null,
            "padding": null,
            "right": null,
            "top": null,
            "visibility": null,
            "width": null
          }
        },
        "d62a3322f0d14df79b5da98e289261f2": {
          "model_module": "@jupyter-widgets/controls",
          "model_name": "DescriptionStyleModel",
          "model_module_version": "1.5.0",
          "state": {
            "_model_module": "@jupyter-widgets/controls",
            "_model_module_version": "1.5.0",
            "_model_name": "DescriptionStyleModel",
            "_view_count": null,
            "_view_module": "@jupyter-widgets/base",
            "_view_module_version": "1.2.0",
            "_view_name": "StyleView",
            "description_width": ""
          }
        },
        "3f85309d509a4dd89752e37980a60f25": {
          "model_module": "@jupyter-widgets/base",
          "model_name": "LayoutModel",
          "model_module_version": "1.2.0",
          "state": {
            "_model_module": "@jupyter-widgets/base",
            "_model_module_version": "1.2.0",
            "_model_name": "LayoutModel",
            "_view_count": null,
            "_view_module": "@jupyter-widgets/base",
            "_view_module_version": "1.2.0",
            "_view_name": "LayoutView",
            "align_content": null,
            "align_items": null,
            "align_self": null,
            "border": null,
            "bottom": null,
            "display": null,
            "flex": null,
            "flex_flow": null,
            "grid_area": null,
            "grid_auto_columns": null,
            "grid_auto_flow": null,
            "grid_auto_rows": null,
            "grid_column": null,
            "grid_gap": null,
            "grid_row": null,
            "grid_template_areas": null,
            "grid_template_columns": null,
            "grid_template_rows": null,
            "height": null,
            "justify_content": null,
            "justify_items": null,
            "left": null,
            "margin": null,
            "max_height": null,
            "max_width": null,
            "min_height": null,
            "min_width": null,
            "object_fit": null,
            "object_position": null,
            "order": null,
            "overflow": null,
            "overflow_x": null,
            "overflow_y": null,
            "padding": null,
            "right": null,
            "top": null,
            "visibility": null,
            "width": null
          }
        },
        "8e17e58489b540558918c17cef9d69c7": {
          "model_module": "@jupyter-widgets/controls",
          "model_name": "ProgressStyleModel",
          "model_module_version": "1.5.0",
          "state": {
            "_model_module": "@jupyter-widgets/controls",
            "_model_module_version": "1.5.0",
            "_model_name": "ProgressStyleModel",
            "_view_count": null,
            "_view_module": "@jupyter-widgets/base",
            "_view_module_version": "1.2.0",
            "_view_name": "StyleView",
            "bar_color": null,
            "description_width": ""
          }
        },
        "040624b130644883a806066573e0d2d7": {
          "model_module": "@jupyter-widgets/base",
          "model_name": "LayoutModel",
          "model_module_version": "1.2.0",
          "state": {
            "_model_module": "@jupyter-widgets/base",
            "_model_module_version": "1.2.0",
            "_model_name": "LayoutModel",
            "_view_count": null,
            "_view_module": "@jupyter-widgets/base",
            "_view_module_version": "1.2.0",
            "_view_name": "LayoutView",
            "align_content": null,
            "align_items": null,
            "align_self": null,
            "border": null,
            "bottom": null,
            "display": null,
            "flex": null,
            "flex_flow": null,
            "grid_area": null,
            "grid_auto_columns": null,
            "grid_auto_flow": null,
            "grid_auto_rows": null,
            "grid_column": null,
            "grid_gap": null,
            "grid_row": null,
            "grid_template_areas": null,
            "grid_template_columns": null,
            "grid_template_rows": null,
            "height": null,
            "justify_content": null,
            "justify_items": null,
            "left": null,
            "margin": null,
            "max_height": null,
            "max_width": null,
            "min_height": null,
            "min_width": null,
            "object_fit": null,
            "object_position": null,
            "order": null,
            "overflow": null,
            "overflow_x": null,
            "overflow_y": null,
            "padding": null,
            "right": null,
            "top": null,
            "visibility": null,
            "width": null
          }
        },
        "f25033c26752442f983027d91f4bd494": {
          "model_module": "@jupyter-widgets/controls",
          "model_name": "DescriptionStyleModel",
          "model_module_version": "1.5.0",
          "state": {
            "_model_module": "@jupyter-widgets/controls",
            "_model_module_version": "1.5.0",
            "_model_name": "DescriptionStyleModel",
            "_view_count": null,
            "_view_module": "@jupyter-widgets/base",
            "_view_module_version": "1.2.0",
            "_view_name": "StyleView",
            "description_width": ""
          }
        }
      }
    }
  },
  "cells": [
    {
      "cell_type": "markdown",
      "source": [
        "# Creating QA Pipeline with Retrieval-Augmentation"
      ],
      "metadata": {
        "id": "anmi9rhmHn73"
      }
    },
    {
      "cell_type": "markdown",
      "source": [
        "### Install Libraries"
      ],
      "metadata": {
        "id": "Co2L1InoF4PG"
      }
    },
    {
      "cell_type": "code",
      "execution_count": 17,
      "metadata": {
        "id": "PZUGD29RFsL8"
      },
      "outputs": [],
      "source": [
        "!pip install -q haystack-ai google-ai-haystack datasets sentence-transformers"
      ]
    },
    {
      "cell_type": "markdown",
      "source": [
        "### Import Libraries"
      ],
      "metadata": {
        "id": "ZezPEMaYGFtn"
      }
    },
    {
      "cell_type": "code",
      "source": [
        "import os\n",
        "from getpass import getpass\n",
        "from datasets import load_dataset\n",
        "\n",
        "from haystack import Document, Pipeline\n",
        "from haystack.components.builders import ChatPromptBuilder\n",
        "from haystack.components.embedders import SentenceTransformersDocumentEmbedder, SentenceTransformersTextEmbedder\n",
        "from haystack.components.retrievers.in_memory import InMemoryEmbeddingRetriever\n",
        "from haystack_integrations.components.generators.google_ai import GoogleAIGeminiChatGenerator\n",
        "from haystack.dataclasses import ChatMessage\n",
        "from haystack.document_stores.in_memory import InMemoryDocumentStore"
      ],
      "metadata": {
        "id": "Jd8LsWbDGG6e"
      },
      "execution_count": 18,
      "outputs": []
    },
    {
      "cell_type": "markdown",
      "source": [
        "### Fetching and Indexing Documents\n",
        "I’ll start by downloading my data and indexing it along with embeddings into a DocumentStore.\n",
        "\n",
        "For this, I’ll keep it simple and use an InMemoryDocumentStore to store my documents and embeddings, which my QA system will later use to find answers."
      ],
      "metadata": {
        "id": "xBYUF3KJHHh_"
      }
    },
    {
      "cell_type": "code",
      "source": [
        "document_store = InMemoryDocumentStore()"
      ],
      "metadata": {
        "id": "ApsJ-GbjGO_H"
      },
      "execution_count": 19,
      "outputs": []
    },
    {
      "cell_type": "markdown",
      "source": [
        "#### Fetch the Data"
      ],
      "metadata": {
        "id": "l_2YTHHpILTn"
      }
    },
    {
      "cell_type": "markdown",
      "source": [
        "I’ll use the Wikipedia pages of [Seven Wonders of the Ancient World](https://en.wikipedia.org/wiki/Wonders_of_the_World) of the Ancient World as my documents. Since the data is already preprocessed and available on Hugging Face Spaces, I don’t need to worry about cleaning or splitting it.\n",
        "\n",
        "I’ll just fetch the data and convert it into Haystack Documents."
      ],
      "metadata": {
        "id": "2mw53GtFIU-H"
      }
    },
    {
      "cell_type": "code",
      "source": [
        "dataset = load_dataset(\"bilgeyucel/seven-wonders\", split=\"train\")\n",
        "docs = [Document(content=doc[\"content\"], meta=doc[\"meta\"]) for doc in dataset]"
      ],
      "metadata": {
        "id": "V5mNtcTOHeRn"
      },
      "execution_count": 20,
      "outputs": []
    },
    {
      "cell_type": "markdown",
      "source": [
        "### Initalize a Document Embedder"
      ],
      "metadata": {
        "id": "DjlhvloGIkfm"
      }
    },
    {
      "cell_type": "markdown",
      "source": [
        "I’ll initialize a **SentenceTransformersDocumentEmbedder** with my chosen model to generate embeddings for the documents. Then, I’ll call `warm_up()` to download and prepare the embedding model."
      ],
      "metadata": {
        "id": "E7Hr7T53Id8H"
      }
    },
    {
      "cell_type": "code",
      "source": [
        "doc_embedder = SentenceTransformersDocumentEmbedder(model=\"sentence-transformers/all-MiniLM-L6-v2\")\n",
        "doc_embedder.warm_up()"
      ],
      "metadata": {
        "id": "PSGOINkrIOLw"
      },
      "execution_count": 21,
      "outputs": []
    },
    {
      "cell_type": "markdown",
      "source": [
        "### Write Documents to the DocumentStore"
      ],
      "metadata": {
        "id": "MrKDXzZyIraO"
      }
    },
    {
      "cell_type": "markdown",
      "source": [
        "I’ll run the **doc_embedder** on my documents to generate embeddings and store them in each document’s `embedding` field. After that, I’ll use `write_documents()` to save these documents (with embeddings) into the **DocumentStore**."
      ],
      "metadata": {
        "id": "1WKb6ggNIwUH"
      }
    },
    {
      "cell_type": "code",
      "source": [
        "docs_with_embeddings = doc_embedder.run(docs)\n",
        "document_store.write_documents(docs_with_embeddings[\"documents\"])"
      ],
      "metadata": {
        "colab": {
          "base_uri": "https://localhost:8080/",
          "height": 66,
          "referenced_widgets": [
            "df73642cd08744608c13d6428ea7ef47",
            "9a458789643b4119b97600b11a734d05",
            "5affc2fb049446e1be40769bafe1edf8",
            "d44c678b79ec4405b69ce3847884fcc7",
            "1376d7ee0b0a4dd3b7750d57a403556f",
            "82381380d79445e9b2a455cd3185fb1a",
            "45482cc4cad546a89079a07ffc045811",
            "e48f2e2d6aa34408a5a5bb677851126a",
            "0970d025f80a418b941e1d0d6d354aed",
            "95e065129ffe4dc8b2bc3704a612d2e6",
            "6518d7231c4b4925936b034828edc3d4"
          ]
        },
        "id": "ypykCMD6IsOB",
        "outputId": "aec8e329-5bec-4c3e-e549-a5f8987331fe"
      },
      "execution_count": 22,
      "outputs": [
        {
          "output_type": "display_data",
          "data": {
            "text/plain": [
              "Batches:   0%|          | 0/5 [00:00<?, ?it/s]"
            ],
            "application/vnd.jupyter.widget-view+json": {
              "version_major": 2,
              "version_minor": 0,
              "model_id": "df73642cd08744608c13d6428ea7ef47"
            }
          },
          "metadata": {}
        },
        {
          "output_type": "execute_result",
          "data": {
            "text/plain": [
              "151"
            ]
          },
          "metadata": {},
          "execution_count": 22
        }
      ]
    },
    {
      "cell_type": "markdown",
      "source": [
        "### Building the RAG Pipeline"
      ],
      "metadata": {
        "id": "O3s7RIzyI-Kf"
      }
    },
    {
      "cell_type": "markdown",
      "source": [
        "Next, I’ll build a **Pipeline** to generate answers using the **RAG** approach.  \n",
        "I’ll start by initializing each component, then add and connect them within the pipeline."
      ],
      "metadata": {
        "id": "g8QPRJ7eJEkP"
      }
    },
    {
      "cell_type": "markdown",
      "source": [
        "### Initialize a Text Embedder"
      ],
      "metadata": {
        "id": "oPJ-RetfJIOf"
      }
    },
    {
      "cell_type": "markdown",
      "source": [
        "I’ll initialize a text embedder to create embeddings for user queries. These embeddings will help the Retriever find relevant documents from the DocumentStore.\n",
        "\n",
        "⚠️ Since I used the sentence-transformers/all-MiniLM-L6-v2 model for my documents, I’ll use the same model here to ensure consistency."
      ],
      "metadata": {
        "id": "sDZxhZUrJM2_"
      }
    },
    {
      "cell_type": "code",
      "source": [
        "text_embedder = SentenceTransformersTextEmbedder(model=\"sentence-transformers/all-MiniLM-L6-v2\")"
      ],
      "metadata": {
        "id": "0mKUPyQ-I6I9"
      },
      "execution_count": 23,
      "outputs": []
    },
    {
      "cell_type": "markdown",
      "source": [
        "### Initialize the Retriever"
      ],
      "metadata": {
        "id": "AthHHU-8JUuw"
      }
    },
    {
      "cell_type": "markdown",
      "source": [
        "I’ll initialize an **InMemoryEmbeddingRetriever** and connect it to the **InMemoryDocumentStore** I set up earlier. This retriever will handle fetching the most relevant documents for any given query."
      ],
      "metadata": {
        "id": "cBVAqnSjJa0A"
      }
    },
    {
      "cell_type": "code",
      "source": [
        "retriever = InMemoryEmbeddingRetriever(document_store)"
      ],
      "metadata": {
        "id": "2KY7k0aIJaFo"
      },
      "execution_count": 24,
      "outputs": []
    },
    {
      "cell_type": "markdown",
      "source": [
        "### Define a Template Prompt"
      ],
      "metadata": {
        "id": "SJJ7rm2GJl6f"
      }
    },
    {
      "cell_type": "markdown",
      "source": [
        "I’ll create a custom prompt for my RAG-based question answering. The prompt will take two inputs:\n",
        "\n",
        "*   documents (retrieved from the DocumentStore)\n",
        "*   question (from the user)\n",
        "\n",
        "\n",
        "I’ll use Jinja2 looping syntax to combine the content of the retrieved documents into the prompt.\n",
        "\n",
        "Then, I’ll initialize a PromptBuilder with this template. When I pass in the documents and question, the PromptBuilder will automatically fill in the variables and generate the final prompt for the model — giving me a more tailored and effective QA experience."
      ],
      "metadata": {
        "id": "4vRbsWaKJkd3"
      }
    },
    {
      "cell_type": "code",
      "source": [
        "template = [\n",
        "    ChatMessage.from_user(\n",
        "        \"\"\"\n",
        "Given the following information, answer the question.\n",
        "\n",
        "Context:\n",
        "{% for document in documents %}\n",
        "    {{ document.content }}\n",
        "{% endfor %}\n",
        "\n",
        "Question: {{question}}\n",
        "Answer:\n",
        "\"\"\"\n",
        "    )\n",
        "]\n",
        "\n",
        "prompt_builder = ChatPromptBuilder(template=template)"
      ],
      "metadata": {
        "colab": {
          "base_uri": "https://localhost:8080/"
        },
        "id": "GYrDTlHuJgP4",
        "outputId": "907d5300-292c-4819-a6c1-e6f21b0f86a3"
      },
      "execution_count": 25,
      "outputs": [
        {
          "output_type": "stream",
          "name": "stderr",
          "text": [
            "WARNING:haystack.components.builders.chat_prompt_builder:ChatPromptBuilder has 2 prompt variables, but `required_variables` is not set. By default, all prompt variables are treated as optional, which may lead to unintended behavior in multi-branch pipelines. To avoid unexpected execution, ensure that variables intended to be required are explicitly set in `required_variables`.\n"
          ]
        }
      ]
    },
    {
      "cell_type": "markdown",
      "source": [
        "### Initialize a ChatGenerator"
      ],
      "metadata": {
        "id": "402pxC2kJ1aP"
      }
    },
    {
      "cell_type": "markdown",
      "source": [
        "**ChatGenerators** are the components that talk to large language models (LLMs). I’ll set the **GOOGLE_API_KEY** environment variable and initialize a **GoogleAIGeminiChatGenerator** to communicate with **Google Gemini** models. While initializing, I’ll specify the model name (like `\"gemini-2.0-flash\"`)."
      ],
      "metadata": {
        "id": "AlBtmRcqJ8HH"
      }
    },
    {
      "cell_type": "code",
      "source": [
        "if \"GOOGLE_API_KEY\" not in os.environ:\n",
        "    os.environ[\"GOOGLE_API_KEY\"] = getpass(\"Enter Google API key:\")\n",
        "\n",
        "chat_generator = GoogleAIGeminiChatGenerator(model=\"gemini-2.0-flash\")"
      ],
      "metadata": {
        "id": "ek8tPmDNJ1_2"
      },
      "execution_count": 26,
      "outputs": []
    },
    {
      "cell_type": "markdown",
      "source": [
        "### Build the Pipeline"
      ],
      "metadata": {
        "id": "J7wafxfPKL2g"
      }
    },
    {
      "cell_type": "markdown",
      "source": [
        "\n",
        "To build my **pipeline**, I’ll add all the components and connect them step by step:\n",
        "\n",
        "1. I’ll connect the **text_embedder’s \"embedding\" output** to the **retriever’s \"query_embedding\" input**.  \n",
        "2. Then, I’ll link the **retriever’s output** to the **prompt_builder**.  \n",
        "3. Since the **prompt_builder** has two inputs (\"documents\" and \"question\"), I’ll explicitly connect the **retriever’s output** to the **\"documents\" input** of the prompt_builder.  \n",
        "4. Finally, I’ll connect the **prompt_builder’s output** to the **LLM (chat_generator)**.\n",
        "\n",
        "This setup ensures everything flows properly from the query to the final answer."
      ],
      "metadata": {
        "id": "i_9svKnKKRen"
      }
    },
    {
      "cell_type": "code",
      "source": [
        "basic_rag_pipeline = Pipeline()\n",
        "\n",
        "# Add components to your pipeline\n",
        "basic_rag_pipeline.add_component(\"text_embedder\", text_embedder)\n",
        "basic_rag_pipeline.add_component(\"retriever\", retriever)\n",
        "basic_rag_pipeline.add_component(\"prompt_builder\", prompt_builder)\n",
        "basic_rag_pipeline.add_component(\"llm\", chat_generator)\n",
        "\n",
        "# Now, connect the components to each other\n",
        "basic_rag_pipeline.connect(\"text_embedder.embedding\", \"retriever.query_embedding\")\n",
        "basic_rag_pipeline.connect(\"retriever\", \"prompt_builder\")\n",
        "basic_rag_pipeline.connect(\"prompt_builder.prompt\", \"llm.messages\")"
      ],
      "metadata": {
        "colab": {
          "base_uri": "https://localhost:8080/"
        },
        "id": "uW04DzX2KEqJ",
        "outputId": "1bad18d4-5c97-43b2-f433-4fc2d5420e6b"
      },
      "execution_count": 27,
      "outputs": [
        {
          "output_type": "execute_result",
          "data": {
            "text/plain": [
              "<haystack.core.pipeline.pipeline.Pipeline object at 0x7e7da01e7210>\n",
              "🚅 Components\n",
              "  - text_embedder: SentenceTransformersTextEmbedder\n",
              "  - retriever: InMemoryEmbeddingRetriever\n",
              "  - prompt_builder: ChatPromptBuilder\n",
              "  - llm: GoogleAIGeminiChatGenerator\n",
              "🛤️ Connections\n",
              "  - text_embedder.embedding -> retriever.query_embedding (List[float])\n",
              "  - retriever.documents -> prompt_builder.documents (List[Document])\n",
              "  - prompt_builder.prompt -> llm.messages (List[ChatMessage])"
            ]
          },
          "metadata": {},
          "execution_count": 27
        }
      ]
    },
    {
      "cell_type": "markdown",
      "source": [
        "### Asking a Question"
      ],
      "metadata": {
        "id": "Ebty5lkoKgdX"
      }
    },
    {
      "cell_type": "markdown",
      "source": [
        "When I ask a question, I’ll use the **pipeline’s `run()` method**. I’ll make sure to pass the question to **both the `text_embedder` and the `prompt_builder`**.\n",
        "\n",
        "This way, the **{{question}}** variable in my prompt template gets filled correctly with the user’s specific question."
      ],
      "metadata": {
        "id": "mHbrZf2XKlbH"
      }
    },
    {
      "cell_type": "code",
      "source": [
        "question = \"Why did people visit the Temple of Artemis?\"\n",
        "\n",
        "response = basic_rag_pipeline.run({\"text_embedder\": {\"text\": question}, \"prompt_builder\": {\"question\": question}})\n",
        "\n",
        "print(response[\"llm\"][\"replies\"][0].text)"
      ],
      "metadata": {
        "colab": {
          "base_uri": "https://localhost:8080/",
          "height": 190,
          "referenced_widgets": [
            "de326d3e17fa42b2999b2a9744e15f24",
            "e9650c56176340d8aa7bb76592b20d71",
            "340df79c523a4a2b88b938f049a852c4",
            "023286efc2034ae09ea69d7ace25a37d",
            "dbc657f02d2c44538a833086b8d0ac35",
            "d31292d667e044ee8668af634e851adf",
            "d62a3322f0d14df79b5da98e289261f2",
            "3f85309d509a4dd89752e37980a60f25",
            "8e17e58489b540558918c17cef9d69c7",
            "040624b130644883a806066573e0d2d7",
            "f25033c26752442f983027d91f4bd494"
          ]
        },
        "id": "RO-ySuGYKdyp",
        "outputId": "f51a16e8-0a1a-476f-87a4-0e725ce3da2b"
      },
      "execution_count": 28,
      "outputs": [
        {
          "output_type": "display_data",
          "data": {
            "text/plain": [
              "Batches:   0%|          | 0/1 [00:00<?, ?it/s]"
            ],
            "application/vnd.jupyter.widget-view+json": {
              "version_major": 2,
              "version_minor": 0,
              "model_id": "de326d3e17fa42b2999b2a9744e15f24"
            }
          },
          "metadata": {}
        },
        {
          "output_type": "stream",
          "name": "stdout",
          "text": [
            "People visited the Temple of Artemis for several reasons:\n",
            "\n",
            "*   **To pay homage to Artemis:** The temple was dedicated to Artemis, and visitors came to honor her with jewelry and various goods.\n",
            "*   **Sightseeing:** The Temple became an important attraction for merchants, kings, and sightseers.\n",
            "*   **Sanctuary:** The temple offered sanctuary to those fleeing persecution or punishment.\n",
            "*   **To attend the Artemis Procession:** Large numbers of people came to Ephesus in March and in the beginning of May to attend the main Artemis Procession.\n",
            "\n"
          ]
        }
      ]
    }
  ]
}